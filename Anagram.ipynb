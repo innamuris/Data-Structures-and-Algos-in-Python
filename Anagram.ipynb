{
 "cells": [
  {
   "cell_type": "markdown",
   "metadata": {},
   "source": [
    "## Best solution for Anagram"
   ]
  },
  {
   "cell_type": "markdown",
   "metadata": {},
   "source": [
    "## Learning/Logic: \n",
    "1. when you have two strings of equal length to compare, we need to create a character count list (26 items) for each string - which will hold the no of occurrances of each character in the string; \n",
    "2. Compare the count lists for each of the strings"
   ]
  },
  {
   "cell_type": "code",
   "execution_count": 6,
   "metadata": {},
   "outputs": [
    {
     "name": "stdout",
     "output_type": "stream",
     "text": [
      "[1, 0, 0, 0, 0, 0, 0, 0, 0, 0, 0, 0, 0, 0, 0, 0, 0, 0, 0, 0, 0, 0, 0, 0, 0, 0]\n",
      "a\n",
      "[1, 0, 0, 0, 0, 0, 0, 0, 0, 0, 0, 0, 0, 0, 0, 1, 0, 0, 0, 0, 0, 0, 0, 0, 0, 0]\n",
      "p\n",
      "[1, 0, 0, 0, 0, 0, 0, 0, 0, 0, 0, 0, 0, 0, 0, 2, 0, 0, 0, 0, 0, 0, 0, 0, 0, 0]\n",
      "p\n",
      "[1, 0, 0, 0, 1, 0, 0, 0, 0, 0, 0, 0, 0, 0, 0, 2, 0, 0, 0, 0, 0, 0, 0, 0, 0, 0]\n",
      "e\n",
      "[1, 0, 0, 0, 1, 0, 0, 0, 0, 0, 0, 1, 0, 0, 0, 2, 0, 0, 0, 0, 0, 0, 0, 0, 0, 0]\n",
      "l\n",
      "[0, 0, 0, 0, 0, 0, 0, 0, 0, 0, 0, 0, 0, 0, 0, 1, 0, 0, 0, 0, 0, 0, 0, 0, 0, 0]\n",
      "p\n",
      "[1, 0, 0, 0, 0, 0, 0, 0, 0, 0, 0, 0, 0, 0, 0, 1, 0, 0, 0, 0, 0, 0, 0, 0, 0, 0]\n",
      "a\n",
      "[1, 0, 0, 0, 0, 0, 0, 0, 0, 0, 0, 1, 0, 0, 0, 1, 0, 0, 0, 0, 0, 0, 0, 0, 0, 0]\n",
      "l\n",
      "[1, 0, 0, 0, 0, 0, 0, 0, 0, 0, 0, 2, 0, 0, 0, 1, 0, 0, 0, 0, 0, 0, 0, 0, 0, 0]\n",
      "l\n",
      "[1, 0, 0, 0, 0, 0, 0, 0, 0, 0, 0, 2, 0, 0, 0, 2, 0, 0, 0, 0, 0, 0, 0, 0, 0, 0]\n",
      "p\n",
      "True\n"
     ]
    }
   ],
   "source": [
    "def anagram_best_sol(s1,s2):\n",
    "    if len(s1)!=len(s2):\n",
    "        return False\n",
    "    else:\n",
    "        c1=[0]*26 # character count list for string1\n",
    "        c2=[0]*26 # character count list for string2\n",
    "        for i in s1:\n",
    "            pos = ord(i)-ord('a')\n",
    "            c1[pos]=c1[pos]+1\n",
    "            print(c1)\n",
    "            print(i)\n",
    "            \n",
    "        for j in s2:\n",
    "            pos = ord(j)-ord('a')\n",
    "            c2[pos]=c2[pos]+1\n",
    "            print(c2)\n",
    "            print(j)\n",
    "            \n",
    "        k=0\n",
    "        comp_status=True\n",
    "        while k<26 and comp_status==True:\n",
    "            if c1[k]!=c2[k]:\n",
    "                return False\n",
    "            else:\n",
    "                return True\n",
    "                \n",
    "stats = anagram_best_sol('appel','pallp')\n",
    "print(stats)\n",
    "\n"
   ]
  },
  {
   "cell_type": "code",
   "execution_count": null,
   "metadata": {},
   "outputs": [],
   "source": []
  }
 ],
 "metadata": {
  "kernelspec": {
   "display_name": "Python 3",
   "language": "python",
   "name": "python3"
  },
  "language_info": {
   "codemirror_mode": {
    "name": "ipython",
    "version": 3
   },
   "file_extension": ".py",
   "mimetype": "text/x-python",
   "name": "python",
   "nbconvert_exporter": "python",
   "pygments_lexer": "ipython3",
   "version": "3.7.4"
  }
 },
 "nbformat": 4,
 "nbformat_minor": 2
}
